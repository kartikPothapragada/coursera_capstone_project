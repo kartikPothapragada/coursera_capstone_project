{
    "nbformat_minor": 1, 
    "cells": [
        {
            "source": "# Capstone Project Report", 
            "cell_type": "markdown", 
            "metadata": {
                "collapsed": true
            }
        }, 
        {
            "source": "## Introduction", 
            "cell_type": "markdown", 
            "metadata": {}
        }, 
        {
            "source": "When people want to relocate from one city to another in india, there is no mechanism to compare the cities and provide an option that is very similar to their existing city.People usually prefer familiarity and therefore clustering cities based on venues would give a comparative picture on existence of similar venues.\n\nUsers of this project can easily get the list of different cities that are similar to the city they are living in.", 
            "cell_type": "markdown", 
            "metadata": {}
        }, 
        {
            "source": "## Data", 
            "cell_type": "markdown", 
            "metadata": {}
        }, 
        {
            "source": "To achieve this we get the most populated cities of India from Wikipedia.\n\n    Example:\n\n        Wikipedia link for List of Cities in India\n\n        https://en.wikipedia.org/wiki/List_of_cities_in_India_by_population\n\n\nGet Latitude and Longitudes of each city using geolocator.\n\nThe Data will look like below:\n\n   Rank\tCity\tPopulation(2011)[3]\t  latitude\tlongitude\n   \n    1\tMumbai\t   12,442,373\t      18.938771\t72.835335\n    2\tDelhi\t   11,034,555\t      28.651718\t77.221939\n\t3\tBangalore  8,443,675\t      12.979120\t77.591300\n\t4\tHyderabad  6,993,262\t      17.361608\t78.474629\n\t5\tAhmedabad  5,577,940\t      23.021624\t72.579707\n\t6\tChennai\t   4,646,732\t      13.080172\t80.283833\n\t7\tKolkata\t   4,496,694\t      22.567746\t88.347602\n\t8\tSurat\t   4,467,797\t      21.186461\t72.808128\n\t9\tPune\t   3,124,458\t      18.520306\t73.854319\n\t10\tJaipur\t   3,046,163\t      26.916194\t75.820349\n\t11\tLucknow\t   2,817,105\t      26.838100\t80.934600\n\t12\tKanpur\t   2,765,348\t      26.460914\t80.321759\n\t13\tNagpur\t   2,405,665\t      21.150096\t79.012705\n\t15\tIndore\t   1,960,631\t      22.720385\t75.868210\n\t16\tThane\t   1,818,872\t      19.194329\t72.970178\n    ....\n    ....\n    ....\n\nUse Foursquare API to fetch venues in each city.\n", 
            "cell_type": "markdown", 
            "metadata": {}
        }, 
        {
            "source": "## Methodology", 
            "cell_type": "markdown", 
            "metadata": {}
        }, 
        {
            "source": "The comparative study on cities is done by using Venue data of cities using FourSquare API. \n\n<b>FourSquare API</b> provides list of venues for a given latitude and longitude [that defines location of a city].\n\nThe venues belong to different categories like restaurants,hospitals,historic places,recreational spaces,commutable options,etc\n\nFor a given set of cities which are fetched from <b>Wikipedia</b> [most populous cities in india], we get latitudes and longitudes for each of them.\n\n<b>Geolocator</b> helps in getting latitudes and longitudes by taking City name. This data is given to Foursquare API to get venues in each city.\n\nThe entire data of each city with venues in different categoires is summarized and provided as input to Machine learning algorithm called  <b> KMEANS</b>.\n\n<b>KMeans</b> clusters the citties based on similarity of venues. Thus helping in creating similar cities cluster.\n", 
            "cell_type": "markdown", 
            "metadata": {}
        }, 
        {
            "source": "## Results", 
            "cell_type": "markdown", 
            "metadata": {}
        }, 
        {
            "source": "The clustered data shows similar cities as part of same cluster.\n\nFor detailed analysis of results we can take example of 2 clusters and see the data findings:\n    \nExample:\n    \n<b>Cluster-1</b>: Bangalore, Hyderabad, Kolkata, Chennai, Ahmedabad, etc\n    \n<b>Cluster-2</b>: Surat, Nagpur, Lucknow, Kanpur, Indore etc\n    \n    \nFrom the above examples we see that all Tier-1 cities naturally formed one Cluster and Tier-2 cities formed another.\n\nThis also emphasises the accuracy of the results and how efficiently we solve the problem of relocation.\n    ", 
            "cell_type": "markdown", 
            "metadata": {}
        }, 
        {
            "source": "## Discussion ", 
            "cell_type": "markdown", 
            "metadata": {}
        }, 
        {
            "source": "We saw initially how it is difficult to find similar citites in a large country like India.\n\nFor people who look to relocate to similar cities, we use different types of venues in each city, considering large data.\n\nThe problem of similarity is solved using clustering algorithm as data points which are nearby have similar venues and thus help users find cities they wish to relocate.\n\nAs variety of data and volume of data is used to cluster, the users familiarity problem is comprehensively considered. on diffrent parameters.", 
            "cell_type": "markdown", 
            "metadata": {}
        }, 
        {
            "source": "## Conclusion ", 
            "cell_type": "markdown", 
            "metadata": {}
        }, 
        {
            "source": "As we saw in <b>Results</b> and <b>Discussion</b> section how we achieved to solve relocation problem with a focus on all parameters.\n\nTherefore if a user who is currently living in Bangalore wants to relocate to similar citiy, using this solution he can opt to\ncities like Bangalore, Hyderabad, Kolkata, Chennai, Ahmedabad.\n\nAs we load more and more data to the project, we help people livng across different geographies in solving relocation issue.\n\nWe can make the application global by considering maximum areas across the globe and find similarity among them, \nacross countries and help in finding similar cities.\n\nThis has many business benefits, as  we can help business men find an appropriate place for their satrtup, \nor an appropriate branch for their business with the country or across the globe.", 
            "cell_type": "markdown", 
            "metadata": {}
        }, 
        {
            "execution_count": null, 
            "cell_type": "code", 
            "metadata": {}, 
            "outputs": [], 
            "source": ""
        }
    ], 
    "metadata": {
        "kernelspec": {
            "display_name": "Python 3.5", 
            "name": "python3", 
            "language": "python"
        }, 
        "language_info": {
            "mimetype": "text/x-python", 
            "nbconvert_exporter": "python", 
            "version": "3.5.5", 
            "name": "python", 
            "file_extension": ".py", 
            "pygments_lexer": "ipython3", 
            "codemirror_mode": {
                "version": 3, 
                "name": "ipython"
            }
        }
    }, 
    "nbformat": 4
}