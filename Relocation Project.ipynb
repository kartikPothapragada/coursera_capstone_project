{
    "nbformat_minor": 1, 
    "cells": [
        {
            "source": " ", 
            "cell_type": "markdown", 
            "metadata": {
                "collapsed": true
            }
        }, 
        {
            "source": "<b>Business Problem</b>", 
            "cell_type": "markdown", 
            "metadata": {}
        }, 
        {
            "source": "When people want to relocate from one city to another in india, there is no mechanism to compare the cities and provide an option that is very similar to their existing city.People usually prefer familiarity and therefore clustering cities based on venues would give a comparative picture on existence of similar venues.\n\nUsers of this project can easily get the list of different cities that are similar to the city they are living in.\n\n", 
            "cell_type": "markdown", 
            "metadata": {}
        }, 
        {
            "source": "<b>Data Section</b>", 
            "cell_type": "markdown", 
            "metadata": {}
        }, 
        {
            "source": "To achieve this we get the most populated cities of India from Wikipedia.\n\nGet Latitude and Longitudes of each city using geolocator.\n\nUse Foursquare API to fetch venues in each city.\n\nWe then use machine learning algorithm to cluster cities. \n\nThe cities which have similar venue naturally fall into same cluster. If a person who is currently living in a particular city plans to relocate to similar city, he would fing both cities in same cluster.\n\nThis is how the relocation problem of people living in cities can be solved.", 
            "cell_type": "markdown", 
            "metadata": {}
        }, 
        {
            "source": "Example:\n\nWikipedia link for List of Cities in India\n\nhttps://en.wikipedia.org/wiki/List_of_cities_in_India_by_population\n", 
            "cell_type": "markdown", 
            "metadata": {}
        }, 
        {
            "execution_count": null, 
            "cell_type": "code", 
            "metadata": {}, 
            "outputs": [], 
            "source": ""
        }
    ], 
    "metadata": {
        "kernelspec": {
            "display_name": "Python 3.5", 
            "name": "python3", 
            "language": "python"
        }, 
        "language_info": {
            "mimetype": "text/x-python", 
            "nbconvert_exporter": "python", 
            "version": "3.5.5", 
            "name": "python", 
            "file_extension": ".py", 
            "pygments_lexer": "ipython3", 
            "codemirror_mode": {
                "version": 3, 
                "name": "ipython"
            }
        }
    }, 
    "nbformat": 4
}